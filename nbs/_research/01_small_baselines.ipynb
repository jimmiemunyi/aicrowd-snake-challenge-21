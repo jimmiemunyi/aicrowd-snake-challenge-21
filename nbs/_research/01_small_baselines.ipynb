{
 "cells": [
  {
   "cell_type": "code",
   "execution_count": null,
   "id": "47c1abad-3744-4447-8e4a-d2fea79fb8ba",
   "metadata": {},
   "outputs": [],
   "source": [
    "from fastai.vision.all import *"
   ]
  },
  {
   "cell_type": "code",
   "execution_count": null,
   "id": "1181d2c2-039f-464b-85e0-dbe574e069f5",
   "metadata": {},
   "outputs": [],
   "source": [
    "dataset = Path('../dataset/ai-crowd-snake-dataset/')"
   ]
  }
 ],
 "metadata": {
  "kernelspec": {
   "display_name": "Python 3 (ipykernel)",
   "language": "python",
   "name": "python3"
  }
 },
 "nbformat": 4,
 "nbformat_minor": 5
}
