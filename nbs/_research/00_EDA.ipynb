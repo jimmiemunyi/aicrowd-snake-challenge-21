{
 "cells": [
  {
   "cell_type": "code",
   "execution_count": null,
   "metadata": {},
   "outputs": [],
   "source": [
    "from fastai.vision.all import *"
   ]
  },
  {
   "cell_type": "code",
   "execution_count": null,
   "metadata": {},
   "outputs": [],
   "source": [
    "dataset = Path('../dataset/ai-crowd-snake-dataset/')"
   ]
  },
  {
   "cell_type": "code",
   "execution_count": null,
   "metadata": {},
   "outputs": [],
   "source": [
    "Path.BASE_PATH = dataset"
   ]
  },
  {
   "cell_type": "code",
   "execution_count": null,
   "metadata": {},
   "outputs": [
    {
     "data": {
      "text/plain": [
       "(#5) [Path('SnakeCLEF2021_train_metadata_PROD.csv'),Path('species_to_country_mapping.csv'),Path('training_data'),Path('training_data.tar.gz'),Path('SnakeCLEF2021_min-train_metadata_PROD.csv')]"
      ]
     },
     "execution_count": null,
     "metadata": {},
     "output_type": "execute_result"
    }
   ],
   "source": [
    "dataset.ls()"
   ]
  },
  {
   "cell_type": "code",
   "execution_count": null,
   "metadata": {},
   "outputs": [
    {
     "data": {
      "text/plain": [
       "(#3) [Path('SnakeCLEF2021_train_metadata_PROD.csv'),Path('species_to_country_mapping.csv'),Path('SnakeCLEF2021_min-train_metadata_PROD.csv')]"
      ]
     },
     "execution_count": null,
     "metadata": {},
     "output_type": "execute_result"
    }
   ],
   "source": [
    "dataset.ls(file_type='text')"
   ]
  },
  {
   "cell_type": "code",
   "execution_count": null,
   "metadata": {},
   "outputs": [],
   "source": [
    "train_full = pd.read_csv(dataset/'SnakeCLEF2021_train_metadata_PROD.csv')"
   ]
  },
  {
   "cell_type": "code",
   "execution_count": null,
   "metadata": {},
   "outputs": [
    {
     "data": {
      "text/plain": [
       "Index(['binomial', 'country', 'continent', 'genus', 'family', 'UUID', 'source',\n",
       "       'subset', 'class_id', 'image_path'],\n",
       "      dtype='object')"
      ]
     },
     "execution_count": null,
     "metadata": {},
     "output_type": "execute_result"
    }
   ],
   "source": [
    "train_full.columns"
   ]
  },
  {
   "cell_type": "code",
   "execution_count": null,
   "metadata": {},
   "outputs": [
    {
     "data": {
      "text/html": [
       "<div>\n",
       "<style scoped>\n",
       "    .dataframe tbody tr th:only-of-type {\n",
       "        vertical-align: middle;\n",
       "    }\n",
       "\n",
       "    .dataframe tbody tr th {\n",
       "        vertical-align: top;\n",
       "    }\n",
       "\n",
       "    .dataframe thead th {\n",
       "        text-align: right;\n",
       "    }\n",
       "</style>\n",
       "<table border=\"1\" class=\"dataframe\">\n",
       "  <thead>\n",
       "    <tr style=\"text-align: right;\">\n",
       "      <th></th>\n",
       "      <th>binomial</th>\n",
       "      <th>country</th>\n",
       "      <th>continent</th>\n",
       "      <th>genus</th>\n",
       "      <th>family</th>\n",
       "      <th>UUID</th>\n",
       "      <th>source</th>\n",
       "      <th>subset</th>\n",
       "      <th>class_id</th>\n",
       "      <th>image_path</th>\n",
       "    </tr>\n",
       "  </thead>\n",
       "  <tbody>\n",
       "    <tr>\n",
       "      <th>0</th>\n",
       "      <td>Pantherophis spiloides</td>\n",
       "      <td>United States of America</td>\n",
       "      <td>North America</td>\n",
       "      <td>Pantherophis</td>\n",
       "      <td>Colubridae</td>\n",
       "      <td>fbc816e9552643a2bce4f655b2f3c4e1</td>\n",
       "      <td>inaturalist</td>\n",
       "      <td>train</td>\n",
       "      <td>523</td>\n",
       "      <td>/Datasets/SnakeCLEF-2021/inaturalist/fbc816e95...</td>\n",
       "    </tr>\n",
       "    <tr>\n",
       "      <th>1</th>\n",
       "      <td>Masticophis taeniatus</td>\n",
       "      <td>United States of America</td>\n",
       "      <td>North America</td>\n",
       "      <td>Masticophis</td>\n",
       "      <td>Colubridae</td>\n",
       "      <td>cbc7ad7141a642f2b92ef7fe05c9d608</td>\n",
       "      <td>inaturalist</td>\n",
       "      <td>train</td>\n",
       "      <td>430</td>\n",
       "      <td>/Datasets/SnakeCLEF-2021/inaturalist/cbc7ad714...</td>\n",
       "    </tr>\n",
       "    <tr>\n",
       "      <th>2</th>\n",
       "      <td>Crotalus pyrrhus</td>\n",
       "      <td>United States of America</td>\n",
       "      <td>North America</td>\n",
       "      <td>Crotalus</td>\n",
       "      <td>Viperidae</td>\n",
       "      <td>fc4db72953ae4c978ac50acb33adce0c</td>\n",
       "      <td>inaturalist</td>\n",
       "      <td>train</td>\n",
       "      <td>183</td>\n",
       "      <td>/Datasets/SnakeCLEF-2021/inaturalist/fc4db7295...</td>\n",
       "    </tr>\n",
       "    <tr>\n",
       "      <th>3</th>\n",
       "      <td>Haldea striatula</td>\n",
       "      <td>United States of America</td>\n",
       "      <td>North America</td>\n",
       "      <td>Haldea</td>\n",
       "      <td>Colubridae</td>\n",
       "      <td>2068c79c956d43dc8a45106e0c808aed</td>\n",
       "      <td>inaturalist</td>\n",
       "      <td>train</td>\n",
       "      <td>305</td>\n",
       "      <td>/Datasets/SnakeCLEF-2021/inaturalist/2068c79c9...</td>\n",
       "    </tr>\n",
       "    <tr>\n",
       "      <th>4</th>\n",
       "      <td>Natrix natrix</td>\n",
       "      <td>Russia</td>\n",
       "      <td>Europe</td>\n",
       "      <td>Natrix</td>\n",
       "      <td>Colubridae</td>\n",
       "      <td>3e376aaf4f8d42e991c0c8ddc5972f95</td>\n",
       "      <td>inaturalist</td>\n",
       "      <td>train</td>\n",
       "      <td>471</td>\n",
       "      <td>/Datasets/SnakeCLEF-2021/inaturalist/3e376aaf4...</td>\n",
       "    </tr>\n",
       "    <tr>\n",
       "      <th>...</th>\n",
       "      <td>...</td>\n",
       "      <td>...</td>\n",
       "      <td>...</td>\n",
       "      <td>...</td>\n",
       "      <td>...</td>\n",
       "      <td>...</td>\n",
       "      <td>...</td>\n",
       "      <td>...</td>\n",
       "      <td>...</td>\n",
       "      <td>...</td>\n",
       "    </tr>\n",
       "    <tr>\n",
       "      <th>386001</th>\n",
       "      <td>Storeria dekayi</td>\n",
       "      <td>United States of America</td>\n",
       "      <td>North America</td>\n",
       "      <td>Storeria</td>\n",
       "      <td>Colubridae</td>\n",
       "      <td>f0a50a4676a34a2f99c3cb2451c6acd5</td>\n",
       "      <td>inaturalist</td>\n",
       "      <td>val</td>\n",
       "      <td>661</td>\n",
       "      <td>/Datasets/SnakeCLEF-2021/inaturalist/f0a50a467...</td>\n",
       "    </tr>\n",
       "    <tr>\n",
       "      <th>386002</th>\n",
       "      <td>Thamnophis sirtalis</td>\n",
       "      <td>United States of America</td>\n",
       "      <td>North America</td>\n",
       "      <td>Thamnophis</td>\n",
       "      <td>Colubridae</td>\n",
       "      <td>4513bbe7752d49dabdff2dd6484c82fc</td>\n",
       "      <td>inaturalist</td>\n",
       "      <td>val</td>\n",
       "      <td>706</td>\n",
       "      <td>/Datasets/SnakeCLEF-2021/inaturalist/4513bbe77...</td>\n",
       "    </tr>\n",
       "    <tr>\n",
       "      <th>386003</th>\n",
       "      <td>Thamnophis sirtalis</td>\n",
       "      <td>Canada</td>\n",
       "      <td>North America</td>\n",
       "      <td>Thamnophis</td>\n",
       "      <td>Colubridae</td>\n",
       "      <td>fca4ce9644b84454bf2d2967bbfd6597</td>\n",
       "      <td>inaturalist</td>\n",
       "      <td>val</td>\n",
       "      <td>706</td>\n",
       "      <td>/Datasets/SnakeCLEF-2021/inaturalist/fca4ce964...</td>\n",
       "    </tr>\n",
       "    <tr>\n",
       "      <th>386004</th>\n",
       "      <td>Pantherophis obsoletus</td>\n",
       "      <td>United States of America</td>\n",
       "      <td>North America</td>\n",
       "      <td>Pantherophis</td>\n",
       "      <td>Colubridae</td>\n",
       "      <td>4650fd94cdc14861a7e12014fcd47520</td>\n",
       "      <td>herpmapper</td>\n",
       "      <td>val</td>\n",
       "      <td>520</td>\n",
       "      <td>/Datasets/SnakeCLEF-2021/herpmapper/4650fd94cd...</td>\n",
       "    </tr>\n",
       "    <tr>\n",
       "      <th>386005</th>\n",
       "      <td>Azemiops feae</td>\n",
       "      <td>China</td>\n",
       "      <td>Asia</td>\n",
       "      <td>Azemiops</td>\n",
       "      <td>Viperidae</td>\n",
       "      <td>5a8a20934d91477f84902d2479aebdc0</td>\n",
       "      <td>flickr</td>\n",
       "      <td>val</td>\n",
       "      <td>53</td>\n",
       "      <td>/Datasets/SnakeCLEF-2021/flickr/5a8a20934d9147...</td>\n",
       "    </tr>\n",
       "  </tbody>\n",
       "</table>\n",
       "<p>386006 rows × 10 columns</p>\n",
       "</div>"
      ],
      "text/plain": [
       "                      binomial                   country      continent  \\\n",
       "0       Pantherophis spiloides  United States of America  North America   \n",
       "1        Masticophis taeniatus  United States of America  North America   \n",
       "2             Crotalus pyrrhus  United States of America  North America   \n",
       "3             Haldea striatula  United States of America  North America   \n",
       "4                Natrix natrix                    Russia         Europe   \n",
       "...                        ...                       ...            ...   \n",
       "386001         Storeria dekayi  United States of America  North America   \n",
       "386002     Thamnophis sirtalis  United States of America  North America   \n",
       "386003     Thamnophis sirtalis                    Canada  North America   \n",
       "386004  Pantherophis obsoletus  United States of America  North America   \n",
       "386005           Azemiops feae                     China           Asia   \n",
       "\n",
       "               genus      family                              UUID  \\\n",
       "0       Pantherophis  Colubridae  fbc816e9552643a2bce4f655b2f3c4e1   \n",
       "1        Masticophis  Colubridae  cbc7ad7141a642f2b92ef7fe05c9d608   \n",
       "2           Crotalus   Viperidae  fc4db72953ae4c978ac50acb33adce0c   \n",
       "3             Haldea  Colubridae  2068c79c956d43dc8a45106e0c808aed   \n",
       "4             Natrix  Colubridae  3e376aaf4f8d42e991c0c8ddc5972f95   \n",
       "...              ...         ...                               ...   \n",
       "386001      Storeria  Colubridae  f0a50a4676a34a2f99c3cb2451c6acd5   \n",
       "386002    Thamnophis  Colubridae  4513bbe7752d49dabdff2dd6484c82fc   \n",
       "386003    Thamnophis  Colubridae  fca4ce9644b84454bf2d2967bbfd6597   \n",
       "386004  Pantherophis  Colubridae  4650fd94cdc14861a7e12014fcd47520   \n",
       "386005      Azemiops   Viperidae  5a8a20934d91477f84902d2479aebdc0   \n",
       "\n",
       "             source subset  class_id  \\\n",
       "0       inaturalist  train       523   \n",
       "1       inaturalist  train       430   \n",
       "2       inaturalist  train       183   \n",
       "3       inaturalist  train       305   \n",
       "4       inaturalist  train       471   \n",
       "...             ...    ...       ...   \n",
       "386001  inaturalist    val       661   \n",
       "386002  inaturalist    val       706   \n",
       "386003  inaturalist    val       706   \n",
       "386004   herpmapper    val       520   \n",
       "386005       flickr    val        53   \n",
       "\n",
       "                                               image_path  \n",
       "0       /Datasets/SnakeCLEF-2021/inaturalist/fbc816e95...  \n",
       "1       /Datasets/SnakeCLEF-2021/inaturalist/cbc7ad714...  \n",
       "2       /Datasets/SnakeCLEF-2021/inaturalist/fc4db7295...  \n",
       "3       /Datasets/SnakeCLEF-2021/inaturalist/2068c79c9...  \n",
       "4       /Datasets/SnakeCLEF-2021/inaturalist/3e376aaf4...  \n",
       "...                                                   ...  \n",
       "386001  /Datasets/SnakeCLEF-2021/inaturalist/f0a50a467...  \n",
       "386002  /Datasets/SnakeCLEF-2021/inaturalist/4513bbe77...  \n",
       "386003  /Datasets/SnakeCLEF-2021/inaturalist/fca4ce964...  \n",
       "386004  /Datasets/SnakeCLEF-2021/herpmapper/4650fd94cd...  \n",
       "386005  /Datasets/SnakeCLEF-2021/flickr/5a8a20934d9147...  \n",
       "\n",
       "[386006 rows x 10 columns]"
      ]
     },
     "execution_count": null,
     "metadata": {},
     "output_type": "execute_result"
    }
   ],
   "source": [
    "train_full"
   ]
  },
  {
   "cell_type": "code",
   "execution_count": null,
   "metadata": {},
   "outputs": [
    {
     "data": {
      "text/plain": [
       "Thamnophis        44470\n",
       "Crotalus          36105\n",
       "Pantherophis      34910\n",
       "Nerodia           29800\n",
       "Storeria          22063\n",
       "                  ...  \n",
       "Pseudocerastes       24\n",
       "Nothopsis            24\n",
       "Ophryacus            22\n",
       "Bolyeria             21\n",
       "Orientocoluber       18\n",
       "Name: genus, Length: 269, dtype: int64"
      ]
     },
     "execution_count": null,
     "metadata": {},
     "output_type": "execute_result"
    }
   ],
   "source": [
    "train_full.genus.value_counts()"
   ]
  },
  {
   "cell_type": "code",
   "execution_count": null,
   "metadata": {},
   "outputs": [
    {
     "data": {
      "text/plain": [
       "Colubridae          275507\n",
       "Viperidae            71505\n",
       "Elapidae             15086\n",
       "Boidae                9333\n",
       "Pythonidae            5446\n",
       "Lamprophiidae         4332\n",
       "Typhlopidae           1549\n",
       "Leptotyphlopidae      1365\n",
       "Pareidae               715\n",
       "Homalopsidae           597\n",
       "Xenodermidae           136\n",
       "Xenopeltidae            98\n",
       "Acrochordidae           83\n",
       "Aniliidae               71\n",
       "Tropidophiidae          67\n",
       "Loxocemidae             56\n",
       "Cylindrophiidae         39\n",
       "Bolyeriidae             21\n",
       "Name: family, dtype: int64"
      ]
     },
     "execution_count": null,
     "metadata": {},
     "output_type": "execute_result"
    }
   ],
   "source": [
    "train_full.family.value_counts()"
   ]
  },
  {
   "cell_type": "code",
   "execution_count": null,
   "metadata": {},
   "outputs": [
    {
     "data": {
      "image/png": "[encoded data removed]",
      "text/plain": [
       "<Figure size 640x480 with 1 Axes>"
      ]
     },
     "metadata": {},
     "output_type": "display_data"
    }
   ],
   "source": [
    "train_full.family.value_counts().plot.barh();"
   ]
  },
  {
   "cell_type": "code",
   "execution_count": null,
   "metadata": {},
   "outputs": [
    {
     "data": {
      "text/plain": [
       "United States of America    246482\n",
       "unknown                      50879\n",
       "Mexico                       16722\n",
       "Canada                       12250\n",
       "Italy                         5182\n",
       "                             ...  \n",
       "Comoros                          1\n",
       "Central African Republic         1\n",
       "Turkmenistan                     1\n",
       "Seychelles                       1\n",
       "Somalia                          1\n",
       "Name: country, Length: 188, dtype: int64"
      ]
     },
     "execution_count": null,
     "metadata": {},
     "output_type": "execute_result"
    }
   ],
   "source": [
    "train_full.country.value_counts()"
   ]
  },
  {
   "cell_type": "code",
   "execution_count": null,
   "metadata": {},
   "outputs": [
    {
     "data": {
      "text/plain": [
       "North America    276135\n",
       "unknown           51061\n",
       "Europe            18689\n",
       "Asia              16518\n",
       "South America     12735\n",
       "Africa             6017\n",
       "Australia          4313\n",
       "Oceania             538\n",
       "Name: continent, dtype: int64"
      ]
     },
     "execution_count": null,
     "metadata": {},
     "output_type": "execute_result"
    }
   ],
   "source": [
    "train_full.continent.value_counts()"
   ]
  },
  {
   "cell_type": "code",
   "execution_count": null,
   "metadata": {},
   "outputs": [
    {
     "data": {
      "text/plain": [
       "'spiloides'"
      ]
     },
     "execution_count": null,
     "metadata": {},
     "output_type": "execute_result"
    }
   ],
   "source": [
    "train_full.binomial[0].split()[1]"
   ]
  },
  {
   "cell_type": "code",
   "execution_count": null,
   "metadata": {},
   "outputs": [],
   "source": [
    "def get_species(row):\n",
    "    _, species = row.binomial.split()\n",
    "    return species"
   ]
  },
  {
   "cell_type": "code",
   "execution_count": null,
   "metadata": {},
   "outputs": [
    {
     "data": {
      "text/plain": [
       "'Pantherophis spiloides'"
      ]
     },
     "execution_count": null,
     "metadata": {},
     "output_type": "execute_result"
    }
   ],
   "source": [
    "train_full.iloc[0].binomial"
   ]
  },
  {
   "cell_type": "code",
   "execution_count": null,
   "metadata": {},
   "outputs": [
    {
     "data": {
      "text/plain": [
       "'spiloides'"
      ]
     },
     "execution_count": null,
     "metadata": {},
     "output_type": "execute_result"
    }
   ],
   "source": [
    "get_species(train_full.iloc[0])"
   ]
  },
  {
   "cell_type": "code",
   "execution_count": null,
   "metadata": {},
   "outputs": [],
   "source": [
    "train_full['species'] = train_full.apply(get_species, axis=1)"
   ]
  },
  {
   "cell_type": "code",
   "execution_count": null,
   "metadata": {},
   "outputs": [
    {
     "data": {
      "text/html": [
       "<div>\n",
       "<style scoped>\n",
       "    .dataframe tbody tr th:only-of-type {\n",
       "        vertical-align: middle;\n",
       "    }\n",
       "\n",
       "    .dataframe tbody tr th {\n",
       "        vertical-align: top;\n",
       "    }\n",
       "\n",
       "    .dataframe thead th {\n",
       "        text-align: right;\n",
       "    }\n",
       "</style>\n",
       "<table border=\"1\" class=\"dataframe\">\n",
       "  <thead>\n",
       "    <tr style=\"text-align: right;\">\n",
       "      <th></th>\n",
       "      <th>binomial</th>\n",
       "      <th>country</th>\n",
       "      <th>continent</th>\n",
       "      <th>genus</th>\n",
       "      <th>family</th>\n",
       "      <th>UUID</th>\n",
       "      <th>source</th>\n",
       "      <th>subset</th>\n",
       "      <th>class_id</th>\n",
       "      <th>image_path</th>\n",
       "      <th>species</th>\n",
       "    </tr>\n",
       "  </thead>\n",
       "  <tbody>\n",
       "    <tr>\n",
       "      <th>0</th>\n",
       "      <td>Pantherophis spiloides</td>\n",
       "      <td>United States of America</td>\n",
       "      <td>North America</td>\n",
       "      <td>Pantherophis</td>\n",
       "      <td>Colubridae</td>\n",
       "      <td>fbc816e9552643a2bce4f655b2f3c4e1</td>\n",
       "      <td>inaturalist</td>\n",
       "      <td>train</td>\n",
       "      <td>523</td>\n",
       "      <td>/Datasets/SnakeCLEF-2021/inaturalist/fbc816e95...</td>\n",
       "      <td>spiloides</td>\n",
       "    </tr>\n",
       "    <tr>\n",
       "      <th>1</th>\n",
       "      <td>Masticophis taeniatus</td>\n",
       "      <td>United States of America</td>\n",
       "      <td>North America</td>\n",
       "      <td>Masticophis</td>\n",
       "      <td>Colubridae</td>\n",
       "      <td>cbc7ad7141a642f2b92ef7fe05c9d608</td>\n",
       "      <td>inaturalist</td>\n",
       "      <td>train</td>\n",
       "      <td>430</td>\n",
       "      <td>/Datasets/SnakeCLEF-2021/inaturalist/cbc7ad714...</td>\n",
       "      <td>taeniatus</td>\n",
       "    </tr>\n",
       "    <tr>\n",
       "      <th>2</th>\n",
       "      <td>Crotalus pyrrhus</td>\n",
       "      <td>United States of America</td>\n",
       "      <td>North America</td>\n",
       "      <td>Crotalus</td>\n",
       "      <td>Viperidae</td>\n",
       "      <td>fc4db72953ae4c978ac50acb33adce0c</td>\n",
       "      <td>inaturalist</td>\n",
       "      <td>train</td>\n",
       "      <td>183</td>\n",
       "      <td>/Datasets/SnakeCLEF-2021/inaturalist/fc4db7295...</td>\n",
       "      <td>pyrrhus</td>\n",
       "    </tr>\n",
       "    <tr>\n",
       "      <th>3</th>\n",
       "      <td>Haldea striatula</td>\n",
       "      <td>United States of America</td>\n",
       "      <td>North America</td>\n",
       "      <td>Haldea</td>\n",
       "      <td>Colubridae</td>\n",
       "      <td>2068c79c956d43dc8a45106e0c808aed</td>\n",
       "      <td>inaturalist</td>\n",
       "      <td>train</td>\n",
       "      <td>305</td>\n",
       "      <td>/Datasets/SnakeCLEF-2021/inaturalist/2068c79c9...</td>\n",
       "      <td>striatula</td>\n",
       "    </tr>\n",
       "    <tr>\n",
       "      <th>4</th>\n",
       "      <td>Natrix natrix</td>\n",
       "      <td>Russia</td>\n",
       "      <td>Europe</td>\n",
       "      <td>Natrix</td>\n",
       "      <td>Colubridae</td>\n",
       "      <td>3e376aaf4f8d42e991c0c8ddc5972f95</td>\n",
       "      <td>inaturalist</td>\n",
       "      <td>train</td>\n",
       "      <td>471</td>\n",
       "      <td>/Datasets/SnakeCLEF-2021/inaturalist/3e376aaf4...</td>\n",
       "      <td>natrix</td>\n",
       "    </tr>\n",
       "  </tbody>\n",
       "</table>\n",
       "</div>"
      ],
      "text/plain": [
       "                 binomial                   country      continent  \\\n",
       "0  Pantherophis spiloides  United States of America  North America   \n",
       "1   Masticophis taeniatus  United States of America  North America   \n",
       "2        Crotalus pyrrhus  United States of America  North America   \n",
       "3        Haldea striatula  United States of America  North America   \n",
       "4           Natrix natrix                    Russia         Europe   \n",
       "\n",
       "          genus      family                              UUID       source  \\\n",
       "0  Pantherophis  Colubridae  fbc816e9552643a2bce4f655b2f3c4e1  inaturalist   \n",
       "1   Masticophis  Colubridae  cbc7ad7141a642f2b92ef7fe05c9d608  inaturalist   \n",
       "2      Crotalus   Viperidae  fc4db72953ae4c978ac50acb33adce0c  inaturalist   \n",
       "3        Haldea  Colubridae  2068c79c956d43dc8a45106e0c808aed  inaturalist   \n",
       "4        Natrix  Colubridae  3e376aaf4f8d42e991c0c8ddc5972f95  inaturalist   \n",
       "\n",
       "  subset  class_id                                         image_path  \\\n",
       "0  train       523  /Datasets/SnakeCLEF-2021/inaturalist/fbc816e95...   \n",
       "1  train       430  /Datasets/SnakeCLEF-2021/inaturalist/cbc7ad714...   \n",
       "2  train       183  /Datasets/SnakeCLEF-2021/inaturalist/fc4db7295...   \n",
       "3  train       305  /Datasets/SnakeCLEF-2021/inaturalist/2068c79c9...   \n",
       "4  train       471  /Datasets/SnakeCLEF-2021/inaturalist/3e376aaf4...   \n",
       "\n",
       "     species  \n",
       "0  spiloides  \n",
       "1  taeniatus  \n",
       "2    pyrrhus  \n",
       "3  striatula  \n",
       "4     natrix  "
      ]
     },
     "execution_count": null,
     "metadata": {},
     "output_type": "execute_result"
    }
   ],
   "source": [
    "train_full.head()"
   ]
  },
  {
   "cell_type": "code",
   "execution_count": null,
   "metadata": {},
   "outputs": [
    {
     "data": {
      "text/plain": [
       "sirtalis           22163\n",
       "dekayi             17535\n",
       "obsoletus          13012\n",
       "atrox              12736\n",
       "sipedon            12211\n",
       "                   ...  \n",
       "transcaucasiana       22\n",
       "undulatus             22\n",
       "multocarinata         21\n",
       "spinalis              18\n",
       "baroni                12\n",
       "Name: species, Length: 680, dtype: int64"
      ]
     },
     "execution_count": null,
     "metadata": {},
     "output_type": "execute_result"
    }
   ],
   "source": [
    "train_full['species'].value_counts()"
   ]
  },
  {
   "cell_type": "code",
   "execution_count": null,
   "metadata": {},
   "outputs": [
    {
     "data": {
      "text/plain": [
       "binomial      object\n",
       "country       object\n",
       "continent     object\n",
       "genus         object\n",
       "family        object\n",
       "UUID          object\n",
       "source        object\n",
       "subset        object\n",
       "class_id       int64\n",
       "image_path    object\n",
       "species       object\n",
       "dtype: object"
      ]
     },
     "execution_count": null,
     "metadata": {},
     "output_type": "execute_result"
    }
   ],
   "source": [
    "train_full.dtypes"
   ]
  },
  {
   "cell_type": "code",
   "execution_count": null,
   "metadata": {},
   "outputs": [
    {
     "data": {
      "text/html": [
       "<div>\n",
       "<style scoped>\n",
       "    .dataframe tbody tr th:only-of-type {\n",
       "        vertical-align: middle;\n",
       "    }\n",
       "\n",
       "    .dataframe tbody tr th {\n",
       "        vertical-align: top;\n",
       "    }\n",
       "\n",
       "    .dataframe thead th {\n",
       "        text-align: right;\n",
       "    }\n",
       "</style>\n",
       "<table border=\"1\" class=\"dataframe\">\n",
       "  <thead>\n",
       "    <tr style=\"text-align: right;\">\n",
       "      <th></th>\n",
       "      <th>binomial</th>\n",
       "      <th>country</th>\n",
       "      <th>continent</th>\n",
       "      <th>genus</th>\n",
       "      <th>family</th>\n",
       "      <th>UUID</th>\n",
       "      <th>source</th>\n",
       "      <th>subset</th>\n",
       "      <th>image_path</th>\n",
       "      <th>species</th>\n",
       "    </tr>\n",
       "  </thead>\n",
       "  <tbody>\n",
       "    <tr>\n",
       "      <th>count</th>\n",
       "      <td>386006</td>\n",
       "      <td>386006</td>\n",
       "      <td>386006</td>\n",
       "      <td>386006</td>\n",
       "      <td>386006</td>\n",
       "      <td>386006</td>\n",
       "      <td>386006</td>\n",
       "      <td>386006</td>\n",
       "      <td>386006</td>\n",
       "      <td>386006</td>\n",
       "    </tr>\n",
       "    <tr>\n",
       "      <th>unique</th>\n",
       "      <td>772</td>\n",
       "      <td>188</td>\n",
       "      <td>8</td>\n",
       "      <td>269</td>\n",
       "      <td>18</td>\n",
       "      <td>386006</td>\n",
       "      <td>3</td>\n",
       "      <td>2</td>\n",
       "      <td>386006</td>\n",
       "      <td>680</td>\n",
       "    </tr>\n",
       "    <tr>\n",
       "      <th>top</th>\n",
       "      <td>Thamnophis sirtalis</td>\n",
       "      <td>United States of America</td>\n",
       "      <td>North America</td>\n",
       "      <td>Thamnophis</td>\n",
       "      <td>Colubridae</td>\n",
       "      <td>fbc816e9552643a2bce4f655b2f3c4e1</td>\n",
       "      <td>inaturalist</td>\n",
       "      <td>train</td>\n",
       "      <td>/Datasets/SnakeCLEF-2021/inaturalist/fbc816e95...</td>\n",
       "      <td>sirtalis</td>\n",
       "    </tr>\n",
       "    <tr>\n",
       "      <th>freq</th>\n",
       "      <td>22163</td>\n",
       "      <td>246482</td>\n",
       "      <td>276135</td>\n",
       "      <td>44470</td>\n",
       "      <td>275507</td>\n",
       "      <td>1</td>\n",
       "      <td>277025</td>\n",
       "      <td>347405</td>\n",
       "      <td>1</td>\n",
       "      <td>22163</td>\n",
       "    </tr>\n",
       "  </tbody>\n",
       "</table>\n",
       "</div>"
      ],
      "text/plain": [
       "                   binomial                   country      continent  \\\n",
       "count                386006                    386006         386006   \n",
       "unique                  772                       188              8   \n",
       "top     Thamnophis sirtalis  United States of America  North America   \n",
       "freq                  22163                    246482         276135   \n",
       "\n",
       "             genus      family                              UUID       source  \\\n",
       "count       386006      386006                            386006       386006   \n",
       "unique         269          18                            386006            3   \n",
       "top     Thamnophis  Colubridae  fbc816e9552643a2bce4f655b2f3c4e1  inaturalist   \n",
       "freq         44470      275507                                 1       277025   \n",
       "\n",
       "        subset                                         image_path   species  \n",
       "count   386006                                             386006    386006  \n",
       "unique       2                                             386006       680  \n",
       "top      train  /Datasets/SnakeCLEF-2021/inaturalist/fbc816e95...  sirtalis  \n",
       "freq    347405                                                  1     22163  "
      ]
     },
     "execution_count": null,
     "metadata": {},
     "output_type": "execute_result"
    }
   ],
   "source": [
    "train_full.describe(include='object')"
   ]
  },
  {
   "cell_type": "code",
   "execution_count": null,
   "metadata": {},
   "outputs": [
    {
     "data": {
      "text/plain": [
       "(#386007) [Path('training_data/SnakeCLEF-2021/inaturalist/1253ce5e30d540b590a15724853e8d88.jpg'),Path('training_data/SnakeCLEF-2021/inaturalist/00088eefa52e4792b8c195de57a1958a.jpg'),Path('training_data/SnakeCLEF-2021/inaturalist/14494d94223b4089aa1e6c5118158097.jpg'),Path('training_data/SnakeCLEF-2021/inaturalist/6f8ea147e3f74cbdb2b0eea167a20e81.jpg'),Path('training_data/SnakeCLEF-2021/inaturalist/34e32ba9b80f404494c9a8d2f6cf44a4.jpg'),Path('training_data/SnakeCLEF-2021/inaturalist/64db3f5421c942b59316a4e3f539d590.jpg'),Path('training_data/SnakeCLEF-2021/inaturalist/26facaaf88494c1ab07b2c82c679134f.jpg'),Path('training_data/SnakeCLEF-2021/inaturalist/2398a0d3fce14968b7a0e04e1ca07311.jpg'),Path('training_data/SnakeCLEF-2021/inaturalist/210991611f1b4218b9d3500f253da339.jpg'),Path('training_data/SnakeCLEF-2021/inaturalist/6e52f9d8fe364213a5b295b8f00b594a.jpg')...]"
      ]
     },
     "execution_count": null,
     "metadata": {},
     "output_type": "execute_result"
    }
   ],
   "source": [
    "files = get_image_files(dataset)\n",
    "files"
   ]
  },
  {
   "cell_type": "code",
   "execution_count": null,
   "metadata": {},
   "outputs": [
    {
     "data": {
      "text/plain": [
       "Path('training_data/SnakeCLEF-2021/inaturalist/1253ce5e30d540b590a15724853e8d88.jpg')"
      ]
     },
     "execution_count": null,
     "metadata": {},
     "output_type": "execute_result"
    }
   ],
   "source": [
    "sample = files[0]\n",
    "sample"
   ]
  },
  {
   "cell_type": "code",
   "execution_count": null,
   "metadata": {},
   "outputs": [
    {
     "data": {
      "image/png": "[encoded data removed]",
      "text/plain": [
       "<PIL.Image.Image image mode=RGB size=224x168>"
      ]
     },
     "execution_count": null,
     "metadata": {},
     "output_type": "execute_result"
    }
   ],
   "source": [
    "im = Image.open(sample)\n",
    "im.to_thumb(224)"
   ]
  },
  {
   "cell_type": "code",
   "execution_count": null,
   "metadata": {},
   "outputs": [
    {
     "data": {
      "text/plain": [
       "'1253ce5e30d540b590a15724853e8d88'"
      ]
     },
     "execution_count": null,
     "metadata": {},
     "output_type": "execute_result"
    }
   ],
   "source": [
    "sample.name[:-4]"
   ]
  },
  {
   "cell_type": "code",
   "execution_count": null,
   "metadata": {},
   "outputs": [],
   "source": [
    "sample_row = train_full.loc[train_full.UUID == sample.name[:-4]]"
   ]
  },
  {
   "cell_type": "code",
   "execution_count": null,
   "metadata": {},
   "outputs": [
    {
     "data": {
      "text/html": [
       "<div>\n",
       "<style scoped>\n",
       "    .dataframe tbody tr th:only-of-type {\n",
       "        vertical-align: middle;\n",
       "    }\n",
       "\n",
       "    .dataframe tbody tr th {\n",
       "        vertical-align: top;\n",
       "    }\n",
       "\n",
       "    .dataframe thead th {\n",
       "        text-align: right;\n",
       "    }\n",
       "</style>\n",
       "<table border=\"1\" class=\"dataframe\">\n",
       "  <thead>\n",
       "    <tr style=\"text-align: right;\">\n",
       "      <th></th>\n",
       "      <th>binomial</th>\n",
       "      <th>country</th>\n",
       "      <th>continent</th>\n",
       "      <th>genus</th>\n",
       "      <th>family</th>\n",
       "      <th>UUID</th>\n",
       "      <th>source</th>\n",
       "      <th>subset</th>\n",
       "      <th>class_id</th>\n",
       "      <th>image_path</th>\n",
       "      <th>species</th>\n",
       "    </tr>\n",
       "  </thead>\n",
       "  <tbody>\n",
       "    <tr>\n",
       "      <th>242893</th>\n",
       "      <td>Storeria dekayi</td>\n",
       "      <td>United States of America</td>\n",
       "      <td>North America</td>\n",
       "      <td>Storeria</td>\n",
       "      <td>Colubridae</td>\n",
       "      <td>1253ce5e30d540b590a15724853e8d88</td>\n",
       "      <td>inaturalist</td>\n",
       "      <td>train</td>\n",
       "      <td>661</td>\n",
       "      <td>/Datasets/SnakeCLEF-2021/inaturalist/1253ce5e30d540b590a15724853e8d88.jpg</td>\n",
       "      <td>dekayi</td>\n",
       "    </tr>\n",
       "  </tbody>\n",
       "</table>\n",
       "</div>"
      ],
      "text/plain": [
       "               binomial                   country      continent     genus  \\\n",
       "242893  Storeria dekayi  United States of America  North America  Storeria   \n",
       "\n",
       "            family                              UUID       source subset  \\\n",
       "242893  Colubridae  1253ce5e30d540b590a15724853e8d88  inaturalist  train   \n",
       "\n",
       "        class_id  \\\n",
       "242893       661   \n",
       "\n",
       "                                                                       image_path  \\\n",
       "242893  /Datasets/SnakeCLEF-2021/inaturalist/1253ce5e30d540b590a15724853e8d88.jpg   \n",
       "\n",
       "       species  \n",
       "242893  dekayi  "
      ]
     },
     "execution_count": null,
     "metadata": {},
     "output_type": "execute_result"
    }
   ],
   "source": [
    "sample_row"
   ]
  },
  {
   "cell_type": "code",
   "execution_count": null,
   "metadata": {},
   "outputs": [],
   "source": [
    "train_min = pd.read_csv(dataset/'SnakeCLEF2021_min-train_metadata_PROD.csv')\n",
    "train_min['species'] = train_min.apply(get_species, axis=1)"
   ]
  },
  {
   "cell_type": "code",
   "execution_count": null,
   "metadata": {},
   "outputs": [
    {
     "data": {
      "text/html": [
       "<div>\n",
       "<style scoped>\n",
       "    .dataframe tbody tr th:only-of-type {\n",
       "        vertical-align: middle;\n",
       "    }\n",
       "\n",
       "    .dataframe tbody tr th {\n",
       "        vertical-align: top;\n",
       "    }\n",
       "\n",
       "    .dataframe thead th {\n",
       "        text-align: right;\n",
       "    }\n",
       "</style>\n",
       "<table border=\"1\" class=\"dataframe\">\n",
       "  <thead>\n",
       "    <tr style=\"text-align: right;\">\n",
       "      <th></th>\n",
       "      <th>binomial</th>\n",
       "      <th>country</th>\n",
       "      <th>continent</th>\n",
       "      <th>genus</th>\n",
       "      <th>family</th>\n",
       "      <th>UUID</th>\n",
       "      <th>source</th>\n",
       "      <th>subset</th>\n",
       "      <th>class_id</th>\n",
       "      <th>image_path</th>\n",
       "      <th>species</th>\n",
       "    </tr>\n",
       "  </thead>\n",
       "  <tbody>\n",
       "    <tr>\n",
       "      <th>0</th>\n",
       "      <td>Acanthophis antarcticus</td>\n",
       "      <td>Australia</td>\n",
       "      <td>Australia</td>\n",
       "      <td>Acanthophis</td>\n",
       "      <td>Elapidae</td>\n",
       "      <td>77d9e2cb84d54ead8b73cd08418f59e8</td>\n",
       "      <td>inaturalist</td>\n",
       "      <td>train</td>\n",
       "      <td>0</td>\n",
       "      <td>/Datasets/SnakeCLEF-2021/inaturalist/77d9e2cb84d54ead8b73cd08418f59e8.jpg</td>\n",
       "      <td>antarcticus</td>\n",
       "    </tr>\n",
       "    <tr>\n",
       "      <th>1</th>\n",
       "      <td>Acanthophis antarcticus</td>\n",
       "      <td>Australia</td>\n",
       "      <td>Australia</td>\n",
       "      <td>Acanthophis</td>\n",
       "      <td>Elapidae</td>\n",
       "      <td>2e517a1984fe47a49d59e4032151cf9f</td>\n",
       "      <td>inaturalist</td>\n",
       "      <td>train</td>\n",
       "      <td>0</td>\n",
       "      <td>/Datasets/SnakeCLEF-2021/inaturalist/2e517a1984fe47a49d59e4032151cf9f.jpg</td>\n",
       "      <td>antarcticus</td>\n",
       "    </tr>\n",
       "    <tr>\n",
       "      <th>2</th>\n",
       "      <td>Acanthophis antarcticus</td>\n",
       "      <td>Australia</td>\n",
       "      <td>Australia</td>\n",
       "      <td>Acanthophis</td>\n",
       "      <td>Elapidae</td>\n",
       "      <td>ba0f5ec4d87545caa9fa4a7978c1acb2</td>\n",
       "      <td>inaturalist</td>\n",
       "      <td>train</td>\n",
       "      <td>0</td>\n",
       "      <td>/Datasets/SnakeCLEF-2021/inaturalist/ba0f5ec4d87545caa9fa4a7978c1acb2.jpg</td>\n",
       "      <td>antarcticus</td>\n",
       "    </tr>\n",
       "    <tr>\n",
       "      <th>3</th>\n",
       "      <td>Acanthophis antarcticus</td>\n",
       "      <td>Australia</td>\n",
       "      <td>Australia</td>\n",
       "      <td>Acanthophis</td>\n",
       "      <td>Elapidae</td>\n",
       "      <td>52a171f7b32b49aba243e1f46ab5cf27</td>\n",
       "      <td>inaturalist</td>\n",
       "      <td>train</td>\n",
       "      <td>0</td>\n",
       "      <td>/Datasets/SnakeCLEF-2021/inaturalist/52a171f7b32b49aba243e1f46ab5cf27.jpg</td>\n",
       "      <td>antarcticus</td>\n",
       "    </tr>\n",
       "    <tr>\n",
       "      <th>4</th>\n",
       "      <td>Acanthophis antarcticus</td>\n",
       "      <td>Australia</td>\n",
       "      <td>Australia</td>\n",
       "      <td>Acanthophis</td>\n",
       "      <td>Elapidae</td>\n",
       "      <td>cb012d880a3d4a509ce91a6105164e33</td>\n",
       "      <td>inaturalist</td>\n",
       "      <td>train</td>\n",
       "      <td>0</td>\n",
       "      <td>/Datasets/SnakeCLEF-2021/inaturalist/cb012d880a3d4a509ce91a6105164e33.jpg</td>\n",
       "      <td>antarcticus</td>\n",
       "    </tr>\n",
       "    <tr>\n",
       "      <th>...</th>\n",
       "      <td>...</td>\n",
       "      <td>...</td>\n",
       "      <td>...</td>\n",
       "      <td>...</td>\n",
       "      <td>...</td>\n",
       "      <td>...</td>\n",
       "      <td>...</td>\n",
       "      <td>...</td>\n",
       "      <td>...</td>\n",
       "      <td>...</td>\n",
       "      <td>...</td>\n",
       "    </tr>\n",
       "    <tr>\n",
       "      <th>70203</th>\n",
       "      <td>Zamenis situla</td>\n",
       "      <td>Greece</td>\n",
       "      <td>Europe</td>\n",
       "      <td>Zamenis</td>\n",
       "      <td>Colubridae</td>\n",
       "      <td>ac70575e3f8043bc96f170540f4203b3</td>\n",
       "      <td>inaturalist</td>\n",
       "      <td>train</td>\n",
       "      <td>771</td>\n",
       "      <td>/Datasets/SnakeCLEF-2021/inaturalist/ac70575e3f8043bc96f170540f4203b3.jpg</td>\n",
       "      <td>situla</td>\n",
       "    </tr>\n",
       "    <tr>\n",
       "      <th>70204</th>\n",
       "      <td>Zamenis situla</td>\n",
       "      <td>Croatia</td>\n",
       "      <td>Europe</td>\n",
       "      <td>Zamenis</td>\n",
       "      <td>Colubridae</td>\n",
       "      <td>d5c3f14ffe764872873185afbe73ddc0</td>\n",
       "      <td>inaturalist</td>\n",
       "      <td>train</td>\n",
       "      <td>771</td>\n",
       "      <td>/Datasets/SnakeCLEF-2021/inaturalist/d5c3f14ffe764872873185afbe73ddc0.jpg</td>\n",
       "      <td>situla</td>\n",
       "    </tr>\n",
       "    <tr>\n",
       "      <th>70205</th>\n",
       "      <td>Zamenis situla</td>\n",
       "      <td>Greece</td>\n",
       "      <td>Europe</td>\n",
       "      <td>Zamenis</td>\n",
       "      <td>Colubridae</td>\n",
       "      <td>77a5d38a5c474c38aa7ecec774d749a2</td>\n",
       "      <td>inaturalist</td>\n",
       "      <td>train</td>\n",
       "      <td>771</td>\n",
       "      <td>/Datasets/SnakeCLEF-2021/inaturalist/77a5d38a5c474c38aa7ecec774d749a2.jpg</td>\n",
       "      <td>situla</td>\n",
       "    </tr>\n",
       "    <tr>\n",
       "      <th>70206</th>\n",
       "      <td>Zamenis situla</td>\n",
       "      <td>Albania</td>\n",
       "      <td>Europe</td>\n",
       "      <td>Zamenis</td>\n",
       "      <td>Colubridae</td>\n",
       "      <td>eab10091e2c544efa1c9eabfcb0422ba</td>\n",
       "      <td>inaturalist</td>\n",
       "      <td>train</td>\n",
       "      <td>771</td>\n",
       "      <td>/Datasets/SnakeCLEF-2021/inaturalist/eab10091e2c544efa1c9eabfcb0422ba.jpg</td>\n",
       "      <td>situla</td>\n",
       "    </tr>\n",
       "    <tr>\n",
       "      <th>70207</th>\n",
       "      <td>Zamenis situla</td>\n",
       "      <td>Greece</td>\n",
       "      <td>Europe</td>\n",
       "      <td>Zamenis</td>\n",
       "      <td>Colubridae</td>\n",
       "      <td>c7f0d4344a5048fba18b8be5ba08594c</td>\n",
       "      <td>inaturalist</td>\n",
       "      <td>train</td>\n",
       "      <td>771</td>\n",
       "      <td>/Datasets/SnakeCLEF-2021/inaturalist/c7f0d4344a5048fba18b8be5ba08594c.jpg</td>\n",
       "      <td>situla</td>\n",
       "    </tr>\n",
       "  </tbody>\n",
       "</table>\n",
       "<p>70208 rows × 11 columns</p>\n",
       "</div>"
      ],
      "text/plain": [
       "                      binomial    country  continent        genus      family  \\\n",
       "0      Acanthophis antarcticus  Australia  Australia  Acanthophis    Elapidae   \n",
       "1      Acanthophis antarcticus  Australia  Australia  Acanthophis    Elapidae   \n",
       "2      Acanthophis antarcticus  Australia  Australia  Acanthophis    Elapidae   \n",
       "3      Acanthophis antarcticus  Australia  Australia  Acanthophis    Elapidae   \n",
       "4      Acanthophis antarcticus  Australia  Australia  Acanthophis    Elapidae   \n",
       "...                        ...        ...        ...          ...         ...   \n",
       "70203           Zamenis situla     Greece     Europe      Zamenis  Colubridae   \n",
       "70204           Zamenis situla    Croatia     Europe      Zamenis  Colubridae   \n",
       "70205           Zamenis situla     Greece     Europe      Zamenis  Colubridae   \n",
       "70206           Zamenis situla    Albania     Europe      Zamenis  Colubridae   \n",
       "70207           Zamenis situla     Greece     Europe      Zamenis  Colubridae   \n",
       "\n",
       "                                   UUID       source subset  class_id  \\\n",
       "0      77d9e2cb84d54ead8b73cd08418f59e8  inaturalist  train         0   \n",
       "1      2e517a1984fe47a49d59e4032151cf9f  inaturalist  train         0   \n",
       "2      ba0f5ec4d87545caa9fa4a7978c1acb2  inaturalist  train         0   \n",
       "3      52a171f7b32b49aba243e1f46ab5cf27  inaturalist  train         0   \n",
       "4      cb012d880a3d4a509ce91a6105164e33  inaturalist  train         0   \n",
       "...                                 ...          ...    ...       ...   \n",
       "70203  ac70575e3f8043bc96f170540f4203b3  inaturalist  train       771   \n",
       "70204  d5c3f14ffe764872873185afbe73ddc0  inaturalist  train       771   \n",
       "70205  77a5d38a5c474c38aa7ecec774d749a2  inaturalist  train       771   \n",
       "70206  eab10091e2c544efa1c9eabfcb0422ba  inaturalist  train       771   \n",
       "70207  c7f0d4344a5048fba18b8be5ba08594c  inaturalist  train       771   \n",
       "\n",
       "                                                                      image_path  \\\n",
       "0      /Datasets/SnakeCLEF-2021/inaturalist/77d9e2cb84d54ead8b73cd08418f59e8.jpg   \n",
       "1      /Datasets/SnakeCLEF-2021/inaturalist/2e517a1984fe47a49d59e4032151cf9f.jpg   \n",
       "2      /Datasets/SnakeCLEF-2021/inaturalist/ba0f5ec4d87545caa9fa4a7978c1acb2.jpg   \n",
       "3      /Datasets/SnakeCLEF-2021/inaturalist/52a171f7b32b49aba243e1f46ab5cf27.jpg   \n",
       "4      /Datasets/SnakeCLEF-2021/inaturalist/cb012d880a3d4a509ce91a6105164e33.jpg   \n",
       "...                                                                          ...   \n",
       "70203  /Datasets/SnakeCLEF-2021/inaturalist/ac70575e3f8043bc96f170540f4203b3.jpg   \n",
       "70204  /Datasets/SnakeCLEF-2021/inaturalist/d5c3f14ffe764872873185afbe73ddc0.jpg   \n",
       "70205  /Datasets/SnakeCLEF-2021/inaturalist/77a5d38a5c474c38aa7ecec774d749a2.jpg   \n",
       "70206  /Datasets/SnakeCLEF-2021/inaturalist/eab10091e2c544efa1c9eabfcb0422ba.jpg   \n",
       "70207  /Datasets/SnakeCLEF-2021/inaturalist/c7f0d4344a5048fba18b8be5ba08594c.jpg   \n",
       "\n",
       "           species  \n",
       "0      antarcticus  \n",
       "1      antarcticus  \n",
       "2      antarcticus  \n",
       "3      antarcticus  \n",
       "4      antarcticus  \n",
       "...            ...  \n",
       "70203       situla  \n",
       "70204       situla  \n",
       "70205       situla  \n",
       "70206       situla  \n",
       "70207       situla  \n",
       "\n",
       "[70208 rows x 11 columns]"
      ]
     },
     "execution_count": null,
     "metadata": {},
     "output_type": "execute_result"
    }
   ],
   "source": [
    "train_min"
   ]
  },
  {
   "cell_type": "code",
   "execution_count": null,
   "metadata": {},
   "outputs": [
    {
     "data": {
      "text/html": [
       "<div>\n",
       "<style scoped>\n",
       "    .dataframe tbody tr th:only-of-type {\n",
       "        vertical-align: middle;\n",
       "    }\n",
       "\n",
       "    .dataframe tbody tr th {\n",
       "        vertical-align: top;\n",
       "    }\n",
       "\n",
       "    .dataframe thead th {\n",
       "        text-align: right;\n",
       "    }\n",
       "</style>\n",
       "<table border=\"1\" class=\"dataframe\">\n",
       "  <thead>\n",
       "    <tr style=\"text-align: right;\">\n",
       "      <th></th>\n",
       "      <th>binomial</th>\n",
       "      <th>country</th>\n",
       "      <th>continent</th>\n",
       "      <th>genus</th>\n",
       "      <th>family</th>\n",
       "      <th>UUID</th>\n",
       "      <th>source</th>\n",
       "      <th>subset</th>\n",
       "      <th>image_path</th>\n",
       "      <th>species</th>\n",
       "    </tr>\n",
       "  </thead>\n",
       "  <tbody>\n",
       "    <tr>\n",
       "      <th>count</th>\n",
       "      <td>70208</td>\n",
       "      <td>70208</td>\n",
       "      <td>70208</td>\n",
       "      <td>70208</td>\n",
       "      <td>70208</td>\n",
       "      <td>70208</td>\n",
       "      <td>70208</td>\n",
       "      <td>70208</td>\n",
       "      <td>70208</td>\n",
       "      <td>70208</td>\n",
       "    </tr>\n",
       "    <tr>\n",
       "      <th>unique</th>\n",
       "      <td>768</td>\n",
       "      <td>178</td>\n",
       "      <td>8</td>\n",
       "      <td>267</td>\n",
       "      <td>17</td>\n",
       "      <td>70208</td>\n",
       "      <td>2</td>\n",
       "      <td>1</td>\n",
       "      <td>70208</td>\n",
       "      <td>677</td>\n",
       "    </tr>\n",
       "    <tr>\n",
       "      <th>top</th>\n",
       "      <td>Pantherophis obsoletus</td>\n",
       "      <td>United States of America</td>\n",
       "      <td>North America</td>\n",
       "      <td>Crotalus</td>\n",
       "      <td>Colubridae</td>\n",
       "      <td>77d9e2cb84d54ead8b73cd08418f59e8</td>\n",
       "      <td>inaturalist</td>\n",
       "      <td>train</td>\n",
       "      <td>/Datasets/SnakeCLEF-2021/inaturalist/77d9e2cb84d54ead8b73cd08418f59e8.jpg</td>\n",
       "      <td>elegans</td>\n",
       "    </tr>\n",
       "    <tr>\n",
       "      <th>freq</th>\n",
       "      <td>299</td>\n",
       "      <td>27412</td>\n",
       "      <td>37139</td>\n",
       "      <td>4892</td>\n",
       "      <td>44728</td>\n",
       "      <td>1</td>\n",
       "      <td>59516</td>\n",
       "      <td>70208</td>\n",
       "      <td>1</td>\n",
       "      <td>533</td>\n",
       "    </tr>\n",
       "  </tbody>\n",
       "</table>\n",
       "</div>"
      ],
      "text/plain": [
       "                      binomial                   country      continent  \\\n",
       "count                    70208                     70208          70208   \n",
       "unique                     768                       178              8   \n",
       "top     Pantherophis obsoletus  United States of America  North America   \n",
       "freq                       299                     27412          37139   \n",
       "\n",
       "           genus      family                              UUID       source  \\\n",
       "count      70208       70208                             70208        70208   \n",
       "unique       267          17                             70208            2   \n",
       "top     Crotalus  Colubridae  77d9e2cb84d54ead8b73cd08418f59e8  inaturalist   \n",
       "freq        4892       44728                                 1        59516   \n",
       "\n",
       "       subset  \\\n",
       "count   70208   \n",
       "unique      1   \n",
       "top     train   \n",
       "freq    70208   \n",
       "\n",
       "                                                                       image_path  \\\n",
       "count                                                                       70208   \n",
       "unique                                                                      70208   \n",
       "top     /Datasets/SnakeCLEF-2021/inaturalist/77d9e2cb84d54ead8b73cd08418f59e8.jpg   \n",
       "freq                                                                            1   \n",
       "\n",
       "        species  \n",
       "count     70208  \n",
       "unique      677  \n",
       "top     elegans  \n",
       "freq        533  "
      ]
     },
     "execution_count": null,
     "metadata": {},
     "output_type": "execute_result"
    }
   ],
   "source": [
    "train_min.describe(include='object')"
   ]
  },
  {
   "cell_type": "code",
   "execution_count": null,
   "metadata": {},
   "outputs": [
    {
     "data": {
      "text/plain": [
       "Crotalus          4892\n",
       "Thamnophis        3812\n",
       "Lampropeltis      3317\n",
       "Pantherophis      2138\n",
       "Nerodia           2078\n",
       "                  ... \n",
       "Denisonia            7\n",
       "Fordonia             7\n",
       "Pseudocerastes       4\n",
       "Erpeton              3\n",
       "Ramphotyphlops       1\n",
       "Name: genus, Length: 267, dtype: int64"
      ]
     },
     "execution_count": null,
     "metadata": {},
     "output_type": "execute_result"
    }
   ],
   "source": [
    "train_min.genus.value_counts()"
   ]
  },
  {
   "cell_type": "code",
   "execution_count": null,
   "metadata": {},
   "outputs": [
    {
     "data": {
      "text/plain": [
       "elegans           533\n",
       "constrictor       503\n",
       "atrox             472\n",
       "lateralis         404\n",
       "scalaris          369\n",
       "                 ... \n",
       "bredli              2\n",
       "hawkei              1\n",
       "curtus              1\n",
       "microlepidotus      1\n",
       "bipartitus          1\n",
       "Name: species, Length: 677, dtype: int64"
      ]
     },
     "execution_count": null,
     "metadata": {},
     "output_type": "execute_result"
    }
   ],
   "source": [
    "train_min.species.value_counts()"
   ]
  },
  {
   "cell_type": "code",
   "execution_count": null,
   "metadata": {},
   "outputs": [
    {
     "data": {
      "text/plain": [
       "North America    37139\n",
       "Asia             10432\n",
       "South America     7781\n",
       "Europe            4550\n",
       "Africa            4271\n",
       "unknown           3261\n",
       "Australia         2396\n",
       "Oceania            378\n",
       "Name: continent, dtype: int64"
      ]
     },
     "execution_count": null,
     "metadata": {},
     "output_type": "execute_result"
    }
   ],
   "source": [
    "train_min.continent.value_counts()"
   ]
  },
  {
   "cell_type": "code",
   "execution_count": null,
   "metadata": {},
   "outputs": [
    {
     "data": {
      "text/plain": [
       "(#386007) [Path('training_data/SnakeCLEF-2021/inaturalist/1253ce5e30d540b590a15724853e8d88.jpg'),Path('training_data/SnakeCLEF-2021/inaturalist/00088eefa52e4792b8c195de57a1958a.jpg'),Path('training_data/SnakeCLEF-2021/inaturalist/14494d94223b4089aa1e6c5118158097.jpg'),Path('training_data/SnakeCLEF-2021/inaturalist/6f8ea147e3f74cbdb2b0eea167a20e81.jpg'),Path('training_data/SnakeCLEF-2021/inaturalist/34e32ba9b80f404494c9a8d2f6cf44a4.jpg'),Path('training_data/SnakeCLEF-2021/inaturalist/64db3f5421c942b59316a4e3f539d590.jpg'),Path('training_data/SnakeCLEF-2021/inaturalist/26facaaf88494c1ab07b2c82c679134f.jpg'),Path('training_data/SnakeCLEF-2021/inaturalist/2398a0d3fce14968b7a0e04e1ca07311.jpg'),Path('training_data/SnakeCLEF-2021/inaturalist/210991611f1b4218b9d3500f253da339.jpg'),Path('training_data/SnakeCLEF-2021/inaturalist/6e52f9d8fe364213a5b295b8f00b594a.jpg')...]"
      ]
     },
     "execution_count": null,
     "metadata": {},
     "output_type": "execute_result"
    }
   ],
   "source": [
    "files"
   ]
  },
  {
   "cell_type": "code",
   "execution_count": null,
   "metadata": {},
   "outputs": [
    {
     "data": {
      "text/plain": [
       "'.jpg'"
      ]
     },
     "execution_count": null,
     "metadata": {},
     "output_type": "execute_result"
    }
   ],
   "source": [
    "files[0].suffix"
   ]
  },
  {
   "cell_type": "code",
   "execution_count": null,
   "metadata": {},
   "outputs": [],
   "source": []
  }
 ],
 "metadata": {
  "kernelspec": {
   "display_name": "Python 3 (ipykernel)",
   "language": "python",
   "name": "python3"
  }
 },
 "nbformat": 4,
 "nbformat_minor": 4
}
